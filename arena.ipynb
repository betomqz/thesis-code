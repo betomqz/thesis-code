{
 "cells": [
  {
   "cell_type": "code",
   "execution_count": 1,
   "metadata": {},
   "outputs": [],
   "source": [
    "import utils\n",
    "from attack import SciPyAttack\n",
    "\n",
    "import numpy as np\n",
    "import tensorflow as tf"
   ]
  },
  {
   "cell_type": "code",
   "execution_count": 3,
   "metadata": {},
   "outputs": [
    {
     "name": "stdout",
     "output_type": "stream",
     "text": [
      "x_train shape: (60000, 28, 28, 1)\n",
      "60000 train samples\n",
      "10000 test samples\n",
      "Epoch 1/3\n",
      "\u001b[1m422/422\u001b[0m \u001b[32m━━━━━━━━━━━━━━━━━━━━\u001b[0m\u001b[37m\u001b[0m \u001b[1m7s\u001b[0m 16ms/step - accuracy: 0.7639 - loss: 0.7573 - val_accuracy: 0.9787 - val_loss: 0.0799\n",
      "Epoch 2/3\n",
      "\u001b[1m422/422\u001b[0m \u001b[32m━━━━━━━━━━━━━━━━━━━━\u001b[0m\u001b[37m\u001b[0m \u001b[1m6s\u001b[0m 15ms/step - accuracy: 0.9649 - loss: 0.1195 - val_accuracy: 0.9847 - val_loss: 0.0571\n",
      "Epoch 3/3\n",
      "\u001b[1m422/422\u001b[0m \u001b[32m━━━━━━━━━━━━━━━━━━━━\u001b[0m\u001b[37m\u001b[0m \u001b[1m6s\u001b[0m 15ms/step - accuracy: 0.9745 - loss: 0.0820 - val_accuracy: 0.9878 - val_loss: 0.0463\n"
     ]
    }
   ],
   "source": [
    "model = utils.train_nn_mnist()"
   ]
  },
  {
   "cell_type": "code",
   "execution_count": 4,
   "metadata": {},
   "outputs": [
    {
     "name": "stdout",
     "output_type": "stream",
     "text": [
      "x_train shape: (60000, 28, 28, 1)\n",
      "60000 train samples\n",
      "10000 test samples\n"
     ]
    }
   ],
   "source": [
    "x_train, x_test, y_train, y_test = utils.load_mnist_data()\n",
    "\n",
    "inputs = [\n",
    "    x_test[3],  # 0\n",
    "    x_test[2],  # 1\n",
    "    x_test[1],  # 2\n",
    "    x_test[18], # 3\n",
    "    x_test[4],  # 4\n",
    "    x_test[8],  # 5*, mejor 15?\n",
    "    x_test[11], # 6\n",
    "    x_test[0],  # 7\n",
    "    x_test[61], # 8\n",
    "    x_test[7],  # 9, mejor 16?\n",
    "]"
   ]
  },
  {
   "cell_type": "code",
   "execution_count": 5,
   "metadata": {},
   "outputs": [],
   "source": [
    "scipyattacker = SciPyAttack(model, distance='L2')"
   ]
  },
  {
   "cell_type": "code",
   "execution_count": null,
   "metadata": {},
   "outputs": [],
   "source": [
    "# Initial guess for the method\n",
    "x0 = np.random.rand(784)\n",
    "\n",
    "# For each input\n",
    "for input_class, input in enumerate(inputs):\n",
    "    \n",
    "    # Initial guess for the method\n",
    "    # x0 = np.clip(input.flatten() + 0.1*np.random.rand(784), 0., 1.)\n",
    "\n",
    "    # For each target\n",
    "    for target in range(10):\n",
    "        if input_class != target:\n",
    "            print(f\"{utils.TextColors.OKGREEN}Attacking from {input_class} to {target}.{utils.TextColors.ENDC}\")\n",
    "            scipyattacker.attack(input=input.flatten(), \n",
    "                                 input_class=input_class, \n",
    "                                 target=target, \n",
    "                                 method='L-BFGS-B',\n",
    "                                 x0=x0,\n",
    "                                 maxiters_binary=10,\n",
    "                                 maxiters_scipy=10000,\n",
    "                                 right=2.)\n",
    "            scipyattacker.save(path='out-BFGS-L1')\n",
    "    print(\"\")"
   ]
  },
  {
   "cell_type": "code",
   "execution_count": null,
   "metadata": {},
   "outputs": [],
   "source": [
    "# For each input\n",
    "for input_class, input in enumerate(inputs):    \n",
    "    utils.vis_flat_mnist(input.flatten(), \n",
    "                        save=True, \n",
    "                        filename=f'out-BFGS-L1/{input_class}-to-{input_class}.png', \n",
    "                        format='png')"
   ]
  },
  {
   "cell_type": "code",
   "execution_count": null,
   "metadata": {},
   "outputs": [],
   "source": [
    "utils.big_graph('out-BFGS-L1')"
   ]
  },
  {
   "cell_type": "markdown",
   "metadata": {},
   "source": [
    "## Prueba individual (para verificar que todo funciona)"
   ]
  },
  {
   "cell_type": "code",
   "execution_count": 6,
   "metadata": {},
   "outputs": [],
   "source": [
    "input_class = 0\n",
    "input = inputs[input_class]\n",
    "target = 1\n",
    "x0 = np.random.rand(784)"
   ]
  },
  {
   "cell_type": "code",
   "execution_count": 7,
   "metadata": {},
   "outputs": [
    {
     "name": "stdout",
     "output_type": "stream",
     "text": [
      "Performing binary search. c:0.41, iter: 9\n"
     ]
    }
   ],
   "source": [
    "scipyattacker.attack(input=input.flatten(), \n",
    "                    input_class=input_class, \n",
    "                    target=target, \n",
    "                    x0=x0,\n",
    "                    method='L-BFGS-B',\n",
    "                    maxiters_binary=10,\n",
    "                    right=2.)"
   ]
  },
  {
   "cell_type": "code",
   "execution_count": 8,
   "metadata": {},
   "outputs": [
    {
     "data": {
      "image/png": "[encoded data removed]",
      "text/plain": [
       "<Figure size 640x480 with 1 Axes>"
      ]
     },
     "metadata": {},
     "output_type": "display_data"
    }
   ],
   "source": [
    "scipyattacker.save(\"tmp\", True)"
   ]
  },
  {
   "cell_type": "code",
   "execution_count": null,
   "metadata": {},
   "outputs": [],
   "source": []
  }
 ],
 "metadata": {
  "kernelspec": {
   "display_name": "thesis-env",
   "language": "python",
   "name": "python3"
  },
  "language_info": {
   "codemirror_mode": {
    "name": "ipython",
    "version": 3
   },
   "file_extension": ".py",
   "mimetype": "text/x-python",
   "name": "python",
   "nbconvert_exporter": "python",
   "pygments_lexer": "ipython3",
   "version": "3.12.4"
  }
 },
 "nbformat": 4,
 "nbformat_minor": 2
}
