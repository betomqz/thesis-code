{
 "cells": [
  {
   "cell_type": "code",
   "execution_count": null,
   "metadata": {},
   "outputs": [],
   "source": [
    "import utils\n",
    "from attack import SciPyAttack, OptimusAttack, Dist\n",
    "\n",
    "import numpy as np\n",
    "import tensorflow as tf"
   ]
  },
  {
   "cell_type": "code",
   "execution_count": null,
   "metadata": {},
   "outputs": [],
   "source": [
    "model = utils.load_mnist_model()"
   ]
  },
  {
   "cell_type": "code",
   "execution_count": null,
   "metadata": {},
   "outputs": [],
   "source": [
    "x_train, x_test, y_train, y_test = utils.load_mnist_data()\n",
    "\n",
    "inputs = [\n",
    "    x_test[3],  # 0\n",
    "    x_test[2],  # 1\n",
    "    x_test[1],  # 2\n",
    "    x_test[18], # 3\n",
    "    x_test[4],  # 4\n",
    "    x_test[8],  # 5*, mejor 15?\n",
    "    x_test[11], # 6\n",
    "    x_test[0],  # 7\n",
    "    x_test[61], # 8\n",
    "    x_test[7],  # 9, mejor 16?\n",
    "]"
   ]
  },
  {
   "cell_type": "code",
   "execution_count": null,
   "metadata": {},
   "outputs": [],
   "source": [
    "scipyattacker = SciPyAttack(\n",
    "    model,\n",
    "    distance=Dist.L2,\n",
    "    method='L-BFGS-B',\n",
    "    options={'maxiter':2000, 'disp':0}\n",
    ")"
   ]
  },
  {
   "cell_type": "code",
   "execution_count": null,
   "metadata": {},
   "outputs": [],
   "source": [
    "# Initial guess for the method\n",
    "initial_guess = np.random.rand(784)\n",
    "\n",
    "# For each input\n",
    "for original_class, original_input in enumerate(inputs):\n",
    "    \n",
    "    # For each target\n",
    "    for target_class in range(10):\n",
    "        if original_class != target_class:\n",
    "            print(f\"{utils.TextColors.OKGREEN}Attacking from {original_class} to {target_class}.{utils.TextColors.ENDC}\")\n",
    "            scipyattacker.attack(\n",
    "                original_input=original_input,\n",
    "                original_class=original_class,\n",
    "                target_class=target_class,\n",
    "                initial_guess=initial_guess\n",
    "            )\n",
    "            scipyattacker.save(path='results/BFGS-L2')\n",
    "    print(\"\")"
   ]
  },
  {
   "cell_type": "code",
   "execution_count": null,
   "metadata": {},
   "outputs": [],
   "source": [
    "# For each input\n",
    "for input_class, input in enumerate(inputs):    \n",
    "    utils.vis_flat_mnist(input.flatten(), \n",
    "                        save=True, \n",
    "                        filename=f'results/BFGS-L2/{input_class}-to-{input_class}.png', \n",
    "                        format='png')"
   ]
  },
  {
   "cell_type": "code",
   "execution_count": null,
   "metadata": {},
   "outputs": [],
   "source": [
    "utils.big_graph('results/BFGS-L2')"
   ]
  },
  {
   "cell_type": "markdown",
   "metadata": {},
   "source": [
    "## Individual test"
   ]
  },
  {
   "cell_type": "code",
   "execution_count": null,
   "metadata": {},
   "outputs": [],
   "source": [
    "original_class = 0\n",
    "original_input = inputs[original_class]\n",
    "target_class = 1\n",
    "initial_guess = np.random.rand(784)"
   ]
  },
  {
   "cell_type": "code",
   "execution_count": null,
   "metadata": {},
   "outputs": [],
   "source": [
    "scipyattacker = SciPyAttack(\n",
    "    model,\n",
    "    distance=Dist.L2,\n",
    "    method='L-BFGS-B',\n",
    "    options={'maxiter':2000}\n",
    ")"
   ]
  },
  {
   "cell_type": "code",
   "execution_count": null,
   "metadata": {},
   "outputs": [],
   "source": [
    "scipyattacker.attack(\n",
    "    original_input=original_input,\n",
    "    original_class=original_class,\n",
    "    target_class=target_class,\n",
    "    initial_guess=initial_guess\n",
    ")"
   ]
  },
  {
   "cell_type": "code",
   "execution_count": null,
   "metadata": {},
   "outputs": [],
   "source": [
    "optimusattacker = OptimusAttack(model=model)"
   ]
  },
  {
   "cell_type": "code",
   "execution_count": null,
   "metadata": {},
   "outputs": [],
   "source": [
    "optimusattacker.attack(\n",
    "    original_input=original_input,\n",
    "    original_class=original_class,\n",
    "    target_class=target_class,\n",
    "    initial_guess=initial_guess\n",
    ")"
   ]
  },
  {
   "cell_type": "code",
   "execution_count": null,
   "metadata": {},
   "outputs": [],
   "source": [
    "utils.eval_flat_pred(scipyattacker.res['x'], model=model)"
   ]
  },
  {
   "cell_type": "code",
   "execution_count": null,
   "metadata": {},
   "outputs": [],
   "source": [
    "scipyattacker.save(\"tmp\", True)"
   ]
  }
 ],
 "metadata": {
  "kernelspec": {
   "display_name": "thesis-env",
   "language": "python",
   "name": "python3"
  },
  "language_info": {
   "codemirror_mode": {
    "name": "ipython",
    "version": 3
   },
   "file_extension": ".py",
   "mimetype": "text/x-python",
   "name": "python",
   "nbconvert_exporter": "python",
   "pygments_lexer": "ipython3",
   "version": "3.12.4"
  }
 },
 "nbformat": 4,
 "nbformat_minor": 2
}
