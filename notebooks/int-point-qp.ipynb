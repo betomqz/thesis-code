{
 "cells": [
  {
   "cell_type": "markdown",
   "metadata": {},
   "source": [
    "# Interior Point Quadratic Programming\n",
    "\n",
    "Solve quadratic problem\n",
    "$$ \\min  q(x) = \\frac{1}{2} x^T G x + x^T c $$\n",
    "$$ \\textrm{s.t.} \\quad Ax \\geq b.$$\n",
    "Using the interior point method described by Nocedal."
   ]
  },
  {
   "cell_type": "markdown",
   "metadata": {
    "vscode": {
     "languageId": "plaintext"
    }
   },
   "source": [
    "## Example of a 2-dimensional problem\n",
    "\n",
    "From p. 475 (Nocedal)\n",
    "\n",
    "$$ \\min f(x) = (x_1 - 1)^2 + (x_2 - 2.5)^2 $$\n",
    "subject to\n",
    "$$\\begin{align*}\n",
    " x_1 - 2x_2 + 2 &\\geq 0, \\\\\n",
    "-x_1 - 2x_2 + 6 &\\geq 0, \\\\\n",
    "-x_1 + 2x_2 + 2 &\\geq 0, \\\\\n",
    "            x_1 &\\geq 0, \\\\\n",
    "            x_2 &\\geq 0. \\\\\n",
    "\\end{align*}$$\n",
    "\n",
    "Observe that \n",
    "$$\\begin{align*}\n",
    "(x_1-1)^2+(x_2-2.5)^2\n",
    "&= x_1^2 -2 x_1 + 1 + x_2^2 - 5x_2 + 6.25 \\\\\n",
    "&= x_1^2 + x_2^2 -2x_1 -5 x_2 + 7.25\\\\\n",
    "&= \\frac{1}{2} \\vec{x} \n",
    "    \\begin{pmatrix}\n",
    "    2 & 0 \\\\\n",
    "    0 & 2\n",
    "    \\end{pmatrix} \\vec{x} + (-2, -5)^T \\vec{x} + 7.25 \\\\\n",
    "&= \\frac{1}{2} \\vec{x}^T G \\vec{x} + c^T \\vec{x} + 7.25.\n",
    "\\end{align*}$$\n",
    "\n",
    "and the restrictions are of the form $A\\vec{x} \\geq b$ with $$ A = \\begin{pmatrix}\n",
    " 1 & -2 \\\\\n",
    "-1 & -1 \\\\\n",
    "-1 &  2 \\\\\n",
    " 1 &  0 \\\\\n",
    " 0 &  1\n",
    "\\end{pmatrix} $$\n",
    "and\n",
    "$$b = \\begin{pmatrix}\n",
    "-2 \\\\\n",
    "-6 \\\\\n",
    "-2 \\\\\n",
    " 0 \\\\\n",
    " 0\n",
    "\\end{pmatrix}\n",
    "$$"
   ]
  },
  {
   "cell_type": "code",
   "execution_count": 6,
   "metadata": {},
   "outputs": [],
   "source": [
    "import numpy as np\n",
    "from optimus import int_point_qp\n",
    "from scipy.optimize import minimize, Bounds, LinearConstraint"
   ]
  },
  {
   "cell_type": "code",
   "execution_count": 2,
   "metadata": {},
   "outputs": [],
   "source": [
    "G = np.array([[2,0],[0,2]])\n",
    "c = np.array([-2,-5])\n",
    "A = np.array([\n",
    "    [ 1, -2],\n",
    "    [-1, -1],\n",
    "    [-1,  2],\n",
    "    [ 1,  0],\n",
    "    [ 0,  1]\n",
    "])\n",
    "b = np.array([-2,-6,-2,0,0])\n",
    "\n",
    "def fun(x):\n",
    "    return 0.5*np.dot(x,np.dot(G,x)) + np.dot(c, x)"
   ]
  },
  {
   "cell_type": "markdown",
   "metadata": {},
   "source": [
    "### Example using SciPy"
   ]
  },
  {
   "cell_type": "code",
   "execution_count": null,
   "metadata": {},
   "outputs": [],
   "source": [
    "constr = LinearConstraint(A, b, [np.inf]*5)\n",
    "x0 = np.array([2.,0.])\n",
    "res = minimize(fun=fun, x0=x0, method='trust-constr', constraints=constr)\n",
    "res.x # should be (1.4,1.7)"
   ]
  },
  {
   "cell_type": "markdown",
   "metadata": {},
   "source": [
    "### Example using `optimus.int_point_qp` method"
   ]
  },
  {
   "cell_type": "code",
   "execution_count": null,
   "metadata": {},
   "outputs": [],
   "source": [
    "x, y, lam = int_point_qp(G=G, c=c, A=A, b=b, x_0=x0.copy(), tol=10e-10)"
   ]
  },
  {
   "cell_type": "code",
   "execution_count": null,
   "metadata": {},
   "outputs": [],
   "source": [
    "x"
   ]
  },
  {
   "cell_type": "code",
   "execution_count": null,
   "metadata": {},
   "outputs": [],
   "source": [
    "np.dot(A,x) >= b"
   ]
  }
 ],
 "metadata": {
  "kernelspec": {
   "display_name": "thesisenv",
   "language": "python",
   "name": "python3"
  },
  "language_info": {
   "codemirror_mode": {
    "name": "ipython",
    "version": 3
   },
   "file_extension": ".py",
   "mimetype": "text/x-python",
   "name": "python",
   "nbconvert_exporter": "python",
   "pygments_lexer": "ipython3",
   "version": "3.12.4"
  }
 },
 "nbformat": 4,
 "nbformat_minor": 2
}
