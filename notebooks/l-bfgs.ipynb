{
 "cells": [
  {
   "cell_type": "markdown",
   "metadata": {},
   "source": [
    "# Notebook to check L-BFGS"
   ]
  },
  {
   "cell_type": "code",
   "execution_count": 1,
   "metadata": {},
   "outputs": [],
   "source": [
    "import numpy as np\n",
    "import scipy.linalg as la"
   ]
  },
  {
   "cell_type": "code",
   "execution_count": 2,
   "metadata": {},
   "outputs": [],
   "source": [
    "B_0 = np.eye(2)\n",
    "S_k = np.array([[4, 0, 2, 1],[3, 2, -1, 0]])\n",
    "Y_k = np.array([[-4, 5, 6, 9],[7, 5, 8, -1]])"
   ]
  },
  {
   "cell_type": "code",
   "execution_count": 3,
   "metadata": {},
   "outputs": [
    {
     "data": {
      "text/plain": [
       "array([[  5,  35,  48,  33],\n",
       "       [ 14,  10,  16,  -2],\n",
       "       [-15,   5,   4,  19],\n",
       "       [ -4,   5,   6,   9]])"
      ]
     },
     "execution_count": 3,
     "metadata": {},
     "output_type": "execute_result"
    }
   ],
   "source": [
    "sTy = np.dot(S_k.T, Y_k)\n",
    "sTy"
   ]
  },
  {
   "cell_type": "code",
   "execution_count": 4,
   "metadata": {},
   "outputs": [
    {
     "data": {
      "text/plain": [
       "array([[  0,   0,   0,   0],\n",
       "       [ 14,   0,   0,   0],\n",
       "       [-15,   5,   0,   0],\n",
       "       [ -4,   5,   6,   0]])"
      ]
     },
     "execution_count": 4,
     "metadata": {},
     "output_type": "execute_result"
    }
   ],
   "source": [
    "L_k = np.tril(sTy, -1)\n",
    "L_k"
   ]
  },
  {
   "cell_type": "code",
   "execution_count": 5,
   "metadata": {},
   "outputs": [
    {
     "data": {
      "text/plain": [
       "array([[ 5,  0,  0,  0],\n",
       "       [ 0, 10,  0,  0],\n",
       "       [ 0,  0,  4,  0],\n",
       "       [ 0,  0,  0,  9]])"
      ]
     },
     "execution_count": 5,
     "metadata": {},
     "output_type": "execute_result"
    }
   ],
   "source": [
    "D_k = np.diag(np.diag(sTy))\n",
    "D_k"
   ]
  },
  {
   "cell_type": "code",
   "execution_count": 6,
   "metadata": {},
   "outputs": [
    {
     "data": {
      "text/plain": [
       "9.11111111111111"
      ]
     },
     "execution_count": 6,
     "metadata": {},
     "output_type": "execute_result"
    }
   ],
   "source": [
    "# This is how we'd calculate delta_k for L-BFGS\n",
    "Y_k_mius_1 = Y_k[:,-1]\n",
    "delta_k = np.dot(Y_k_mius_1, Y_k_mius_1) / np.dot(S_k[:,-1], Y_k_mius_1)\n",
    "delta_k"
   ]
  },
  {
   "cell_type": "code",
   "execution_count": 7,
   "metadata": {},
   "outputs": [],
   "source": [
    "# But for now we'll set it to 1.\n",
    "delta_k = 1."
   ]
  },
  {
   "cell_type": "code",
   "execution_count": 8,
   "metadata": {},
   "outputs": [
    {
     "data": {
      "text/plain": [
       "array([[ 25.,   6.,   5.,   4.,   0.,   0.,   0.,   0.],\n",
       "       [  6.,   4.,  -2.,   0.,  14.,   0.,   0.,   0.],\n",
       "       [  5.,  -2.,   5.,   2., -15.,   5.,   0.,   0.],\n",
       "       [  4.,   0.,   2.,   1.,  -4.,   5.,   6.,   0.],\n",
       "       [  0.,  14., -15.,  -4.,  -5.,   0.,   0.,   0.],\n",
       "       [  0.,   0.,   5.,   5.,   0., -10.,   0.,   0.],\n",
       "       [  0.,   0.,   0.,   6.,   0.,   0.,  -4.,   0.],\n",
       "       [  0.,   0.,   0.,   0.,   0.,   0.,   0.,  -9.]])"
      ]
     },
     "execution_count": 8,
     "metadata": {},
     "output_type": "execute_result"
    }
   ],
   "source": [
    "M = np.block([\n",
    "    [delta_k * np.dot(S_k.T, S_k), L_k],\n",
    "    [L_k.T, -D_k]\n",
    "])\n",
    "M"
   ]
  },
  {
   "cell_type": "code",
   "execution_count": 9,
   "metadata": {},
   "outputs": [
    {
     "data": {
      "text/plain": [
       "array([[ 4.,  0.,  2.,  1., -4.,  5.,  6.,  9.],\n",
       "       [ 3.,  2., -1.,  0.,  7.,  5.,  8., -1.]])"
      ]
     },
     "execution_count": 9,
     "metadata": {},
     "output_type": "execute_result"
    }
   ],
   "source": [
    "dSY = np.block([\n",
    "    [delta_k * S_k, Y_k]\n",
    "])\n",
    "dSY"
   ]
  },
  {
   "cell_type": "code",
   "execution_count": 10,
   "metadata": {},
   "outputs": [
    {
     "data": {
      "text/plain": [
       "array([[ 0.00000000e+00, -1.48392415e-01],\n",
       "       [ 0.00000000e+00,  5.15663644e-01],\n",
       "       [ 0.00000000e+00, -3.44600165e-01],\n",
       "       [ 1.00000000e+00,  1.33470734e+00],\n",
       "       [ 1.12692671e-18,  9.89282770e-03],\n",
       "       [ 2.90598360e-18, -4.94641385e-03],\n",
       "       [-1.78906766e-18,  2.06100577e-03],\n",
       "       [-1.00000000e+00,  1.11111111e-01]])"
      ]
     },
     "execution_count": 10,
     "metadata": {},
     "output_type": "execute_result"
    }
   ],
   "source": [
    "X = la.solve(M, dSY.T)\n",
    "X"
   ]
  },
  {
   "cell_type": "code",
   "execution_count": 11,
   "metadata": {},
   "outputs": [
    {
     "data": {
      "text/plain": [
       "array([[ 9.        , -1.        ],\n",
       "       [-1.        ,  0.11935513]])"
      ]
     },
     "execution_count": 11,
     "metadata": {},
     "output_type": "execute_result"
    }
   ],
   "source": [
    "B_k = delta_k * np.eye(2) - np.dot(dSY, X)\n",
    "B_k"
   ]
  },
  {
   "cell_type": "code",
   "execution_count": 12,
   "metadata": {},
   "outputs": [
    {
     "data": {
      "text/plain": [
       "array([9.11121174e+00+0.j, 8.14339628e-03+0.j])"
      ]
     },
     "execution_count": 12,
     "metadata": {},
     "output_type": "execute_result"
    }
   ],
   "source": [
    "eigenval, eigenvec = la.eig(B_k)\n",
    "eigenval"
   ]
  },
  {
   "cell_type": "code",
   "execution_count": 13,
   "metadata": {},
   "outputs": [
    {
     "data": {
      "text/plain": [
       "array([[ 0.99387275,  0.11053032],\n",
       "       [-0.11053032,  0.99387275]])"
      ]
     },
     "execution_count": 13,
     "metadata": {},
     "output_type": "execute_result"
    }
   ],
   "source": [
    "eigenvec"
   ]
  },
  {
   "cell_type": "markdown",
   "metadata": {},
   "source": [
    "## How to keep only $m$ vectors?"
   ]
  },
  {
   "cell_type": "code",
   "execution_count": 14,
   "metadata": {},
   "outputs": [],
   "source": [
    "from collections import deque"
   ]
  },
  {
   "cell_type": "code",
   "execution_count": 15,
   "metadata": {},
   "outputs": [],
   "source": [
    "m, n = 3, 4             # We'll keep m vectors of n elements each\n",
    "S_k = deque(maxlen=m)\n",
    "Y_k = deque(maxlen=m)"
   ]
  },
  {
   "cell_type": "code",
   "execution_count": 16,
   "metadata": {},
   "outputs": [
    {
     "data": {
      "text/plain": [
       "array([ 7, -8,  2, -1])"
      ]
     },
     "execution_count": 16,
     "metadata": {},
     "output_type": "execute_result"
    }
   ],
   "source": [
    "s_k = np.random.randint(low=-9, high=9, size=n)\n",
    "y_k = np.random.randint(low=-9, high=9, size=n)\n",
    "s_k"
   ]
  },
  {
   "cell_type": "code",
   "execution_count": 17,
   "metadata": {},
   "outputs": [
    {
     "name": "stdout",
     "output_type": "stream",
     "text": [
      "[[ 5]\n",
      " [-6]\n",
      " [-2]\n",
      " [-3]] \n",
      "\n",
      "[[ 5 -7]\n",
      " [-6  2]\n",
      " [-2 -4]\n",
      " [-3  0]] \n",
      "\n",
      "[[ 5 -7 -9]\n",
      " [-6  2 -9]\n",
      " [-2 -4  4]\n",
      " [-3  0  3]] \n",
      "\n",
      "[[-7 -9  8]\n",
      " [ 2 -9 -6]\n",
      " [-4  4 -5]\n",
      " [ 0  3 -9]] \n",
      "\n",
      "[[-9  8  2]\n",
      " [-9 -6  7]\n",
      " [ 4 -5 -9]\n",
      " [ 3 -9  3]] \n",
      "\n"
     ]
    }
   ],
   "source": [
    "for i in range(5):\n",
    "    s_k = np.random.randint(low=-9, high=9, size=n)\n",
    "    y_k = np.random.randint(low=-9, high=9, size=n)\n",
    "\n",
    "    S_k.append(s_k)\n",
    "    Y_k.append(s_k)\n",
    "\n",
    "    print(np.array(S_k).T, \"\\n\")"
   ]
  },
  {
   "cell_type": "markdown",
   "metadata": {},
   "source": [
    "### Another alternative\n",
    "\n",
    "But I'd have to reorder, don't like this solution"
   ]
  },
  {
   "cell_type": "code",
   "execution_count": 18,
   "metadata": {},
   "outputs": [
    {
     "name": "stdout",
     "output_type": "stream",
     "text": [
      "[[ 8.  0.  0.]\n",
      " [ 5.  0.  0.]\n",
      " [ 1.  0.  0.]\n",
      " [-2.  0.  0.]] \n",
      "\n",
      "[[ 8. -8.  0.]\n",
      " [ 5. -9.  0.]\n",
      " [ 1. -1.  0.]\n",
      " [-2.  3.  0.]] \n",
      "\n",
      "[[ 8. -8. -2.]\n",
      " [ 5. -9.  4.]\n",
      " [ 1. -1.  6.]\n",
      " [-2.  3.  1.]] \n",
      "\n",
      "[[-2. -8. -2.]\n",
      " [ 4. -9.  4.]\n",
      " [ 3. -1.  6.]\n",
      " [-6.  3.  1.]] \n",
      "\n",
      "[[-2.  3. -2.]\n",
      " [ 4. -2.  4.]\n",
      " [ 3. -1.  6.]\n",
      " [-6. -9.  1.]] \n",
      "\n"
     ]
    }
   ],
   "source": [
    "matrix = np.zeros((n, m))  # Preallocate\n",
    "index = 0\n",
    "\n",
    "def update_matrix(matrix, new_vector, index):\n",
    "    matrix[:, index] = new_vector  # Overwrite the next position\n",
    "    index = (index + 1) % m  # Circular indexing\n",
    "    return matrix, index\n",
    "\n",
    "for i in range(5):\n",
    "    new_vector = np.random.randint(low=-9, high=9, size=n)\n",
    "    matrix, index = update_matrix(matrix, new_vector, index)\n",
    "    print(matrix, \"\\n\")"
   ]
  }
 ],
 "metadata": {
  "kernelspec": {
   "display_name": "thesisenv",
   "language": "python",
   "name": "python3"
  },
  "language_info": {
   "codemirror_mode": {
    "name": "ipython",
    "version": 3
   },
   "file_extension": ".py",
   "mimetype": "text/x-python",
   "name": "python",
   "nbconvert_exporter": "python",
   "pygments_lexer": "ipython3",
   "version": "3.10.16"
  }
 },
 "nbformat": 4,
 "nbformat_minor": 2
}
