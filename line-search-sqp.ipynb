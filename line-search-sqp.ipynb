{
 "cells": [
  {
   "cell_type": "markdown",
   "metadata": {},
   "source": [
    "# Line Search SQP Algorithm\n",
    "\n",
    "Implemented from Algorithm 18.3 from Nocedal (2008), p. 545."
   ]
  },
  {
   "cell_type": "markdown",
   "metadata": {},
   "source": [
    "## Problem formulation\n",
    "\n",
    "We attempt to solve the general nonlinear programming problem (`18.10`)\n",
    " \n",
    "$$ \\min f(x) $$\n",
    "\n",
    "subject to\n",
    "$$ \n",
    "\\begin{align*}\n",
    "    c_i(x) &= 0, \\quad i \\in \\mathcal{E}, \\\\\n",
    "    c_i(x) &\\geq 0, \\quad i \\in \\mathcal{I}. \\\\\n",
    "\\end{align*}\n",
    "$$\n",
    "\n",
    "To model this problem we now linearize both the inequality and equality\n",
    "constraints to obtain (`18.11`)\n",
    "\n",
    "$$ \n",
    "    \\min_p f_k + \\nabla f_k^T p\n",
    "    + \\frac{1}{2} p^T \\nabla_{xx}^2 \\mathcal{L}_k p\n",
    "$$\n",
    "\n",
    "subject to\n",
    "$$ \n",
    "\\begin{align*}\n",
    "    \\nabla c_i(x_k)^T p + c_i(x_k) &= 0, \\quad i \\in \\mathcal{E}, \\\\\n",
    "    \\nabla c_i(x_k)^T p + c_i(x_k) &\\geq 0, \\quad i \\in \\mathcal{I}. \\\\\n",
    "\\end{align*}\n",
    "$$\n",
    "\n",
    "We can use one of the algorithms for quadratic programming to solve this\n",
    "problem. The new iterate is given by $(x_k + p_k, \\lambda_{k+1})$ where $p_k$\n",
    "and $\\lambda_{k+1}$ are the solution and the corresponding Lagrange multiplier \n",
    "of (`18.11`)"
   ]
  },
  {
   "cell_type": "code",
   "execution_count": null,
   "metadata": {},
   "outputs": [],
   "source": [
    "import numpy as np\n",
    "from optimus import ls_sqp\n",
    "from scipy.optimize import rosen, rosen_der, minimize, LinearConstraint"
   ]
  },
  {
   "cell_type": "markdown",
   "metadata": {},
   "source": [
    "Let's try an example with the [Rosenbrock function](https://en.wikipedia.org/wiki/Rosenbrock_function):\n",
    "\n",
    "$$ f(x_1, x_2) = (a - x_1)^2 + b(x_2 - x_1^2)^2 $$\n",
    "\n",
    "with global minumum at $(a,a^2)$."
   ]
  },
  {
   "cell_type": "code",
   "execution_count": null,
   "metadata": {},
   "outputs": [],
   "source": [
    "A = np.array([\n",
    "    [ 1, -2],\n",
    "    [-1, -1],\n",
    "    [-1,  2],\n",
    "    [ 1,  0],\n",
    "    [ 0,  1]\n",
    "])\n",
    "b = np.array([-2,-6,-2,0,0])"
   ]
  },
  {
   "cell_type": "code",
   "execution_count": null,
   "metadata": {},
   "outputs": [],
   "source": [
    "def fun(x):\n",
    "    return rosen(x), rosen_der(x)\n",
    "\n",
    "def restr(x):\n",
    "    return np.dot(A, x) - b, A\n",
    "\n",
    "x0 = np.array([2.,0.])"
   ]
  },
  {
   "cell_type": "markdown",
   "metadata": {},
   "source": [
    "## Example using SciPy"
   ]
  },
  {
   "cell_type": "code",
   "execution_count": null,
   "metadata": {},
   "outputs": [],
   "source": [
    "constr = LinearConstraint(A, b, [np.inf]*5)\n",
    "res = minimize(fun=fun, x0=x0, method='trust-constr', jac=True, constraints=constr)\n",
    "res.x # should be (1., 1.)"
   ]
  },
  {
   "cell_type": "code",
   "execution_count": null,
   "metadata": {},
   "outputs": [],
   "source": [
    "np.dot(A, res.x) >= b"
   ]
  },
  {
   "cell_type": "code",
   "execution_count": null,
   "metadata": {},
   "outputs": [],
   "source": [
    "x, lam = ls_sqp(fun, restr, x_0=x0, lam_0=np.ones(5), B_0=np.eye(x0.size), eta=0.4, tau=0.7, maxiters=1000, tol=10e-10)"
   ]
  },
  {
   "cell_type": "code",
   "execution_count": null,
   "metadata": {},
   "outputs": [],
   "source": [
    "x"
   ]
  },
  {
   "cell_type": "code",
   "execution_count": null,
   "metadata": {},
   "outputs": [],
   "source": [
    "np.dot(A, x) >= b"
   ]
  },
  {
   "cell_type": "markdown",
   "metadata": {},
   "source": [
    "## A more complicated example"
   ]
  },
  {
   "cell_type": "code",
   "execution_count": null,
   "metadata": {},
   "outputs": [],
   "source": [
    "n = 50"
   ]
  },
  {
   "cell_type": "code",
   "execution_count": null,
   "metadata": {},
   "outputs": [],
   "source": [
    "def fun(x):\n",
    "    return rosen(x), rosen_der(x)\n",
    "\n",
    "def restr2(x: np.ndarray) -> tuple[float, np.ndarray]:\n",
    "        '''\n",
    "        Evaluate the restrictions of the problem: c(x) >= 0.\n",
    "\n",
    "        Since we want that 0 <= x_i <= 1 for every i, then\n",
    "            c(x) = [x_1, x_2, ..., x_n, 1 - x_1, 1 - x_2, ..., 1 - x_n]\n",
    "        '''\n",
    "        c = np.concatenate([x, 1 - x])\n",
    "        A = np.concatenate([np.eye(x.size), -np.eye(x.size)])\n",
    "        return c, A"
   ]
  },
  {
   "cell_type": "markdown",
   "metadata": {},
   "source": [
    "### With SciPy"
   ]
  },
  {
   "cell_type": "code",
   "execution_count": null,
   "metadata": {},
   "outputs": [],
   "source": [
    "n = 10"
   ]
  },
  {
   "cell_type": "code",
   "execution_count": null,
   "metadata": {},
   "outputs": [],
   "source": [
    "x0 = np.array([2.]*n)"
   ]
  },
  {
   "cell_type": "code",
   "execution_count": null,
   "metadata": {},
   "outputs": [],
   "source": [
    "bounds = [(0.,1.)]*n\n",
    "res = minimize(fun=fun, x0=x0, method='trust-constr', jac=True, bounds=bounds)\n",
    "res.x # should be (1,1,...,1)"
   ]
  },
  {
   "cell_type": "code",
   "execution_count": null,
   "metadata": {},
   "outputs": [],
   "source": [
    "res.niter, res.fun"
   ]
  },
  {
   "cell_type": "code",
   "execution_count": null,
   "metadata": {},
   "outputs": [],
   "source": [
    "x, lam = ls_sqp(fun, restr2, x_0=x0, lam_0=np.ones(2 * x0.size), B_0=np.eye(x0.size), eta=0.4, tau=0.7, maxiters=1000, tol=10e-4)"
   ]
  },
  {
   "cell_type": "code",
   "execution_count": null,
   "metadata": {},
   "outputs": [],
   "source": [
    "x"
   ]
  }
 ],
 "metadata": {
  "kernelspec": {
   "display_name": "thesisenv",
   "language": "python",
   "name": "python3"
  },
  "language_info": {
   "codemirror_mode": {
    "name": "ipython",
    "version": 3
   },
   "file_extension": ".py",
   "mimetype": "text/x-python",
   "name": "python",
   "nbconvert_exporter": "python",
   "pygments_lexer": "ipython3",
   "version": "3.12.4"
  }
 },
 "nbformat": 4,
 "nbformat_minor": 2
}
