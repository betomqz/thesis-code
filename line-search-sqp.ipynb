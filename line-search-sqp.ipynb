{
 "cells": [
  {
   "cell_type": "markdown",
   "metadata": {},
   "source": [
    "# Line Search SQP Algorithm\n",
    "\n",
    "Implemented from Algorithm 18.3 from Nocedal (2008), p. 545."
   ]
  },
  {
   "cell_type": "markdown",
   "metadata": {},
   "source": [
    "## Problem formulation\n",
    "\n",
    "We attempt to solve the general nonlinear programming problem (`18.10`)\n",
    " \n",
    "$$ \\min f(x) $$\n",
    "\n",
    "subject to\n",
    "$$ \n",
    "\\begin{align*}\n",
    "    c_i(x) &= 0, \\quad i \\in \\mathcal{E}, \\\\\n",
    "    c_i(x) &\\geq 0, \\quad i \\in \\mathcal{I}. \\\\\n",
    "\\end{align*}\n",
    "$$\n",
    "\n",
    "To model this problem we now linearize both the inequality and equality\n",
    "constraints to obtain (`18.11`)\n",
    "\n",
    "$$ \n",
    "    \\min_p f_k + \\nabla f_k^T p\n",
    "    + \\frac{1}{2} p^T \\nabla_{xx}^2 \\mathcal{L}_k p\n",
    "$$\n",
    "\n",
    "subject to\n",
    "$$ \n",
    "\\begin{align*}\n",
    "    \\nabla c_i(x_k)^T p + c_i(x_k) &= 0, \\quad i \\in \\mathcal{E}, \\\\\n",
    "    \\nabla c_i(x_k)^T p + c_i(x_k) &\\geq 0, \\quad i \\in \\mathcal{I}. \\\\\n",
    "\\end{align*}\n",
    "$$\n",
    "\n",
    "We can use one of the algorithms for quadratic programming to solve this\n",
    "problem. The new iterate is given by $(x_k + p_k, \\lambda_{k+1})$ where $p_k$\n",
    "and $\\lambda_{k+1}$ are the solution and the corresponding Lagrange multiplier \n",
    "of (`18.11`)"
   ]
  },
  {
   "cell_type": "code",
   "execution_count": 1,
   "metadata": {},
   "outputs": [],
   "source": [
    "import numpy as np\n",
    "from optimus import ls_sqp\n",
    "from scipy.optimize import rosen, rosen_der, minimize, LinearConstraint"
   ]
  },
  {
   "cell_type": "markdown",
   "metadata": {},
   "source": [
    "Let's try an example with the [Rosenbrock function](https://en.wikipedia.org/wiki/Rosenbrock_function):\n",
    "\n",
    "$$ f(x_1, x_2) = (a - x_1)^2 + b(x_2 - x_1^2)^2 $$\n",
    "\n",
    "with global minumum at $(a,a^2)$."
   ]
  },
  {
   "cell_type": "code",
   "execution_count": 2,
   "metadata": {},
   "outputs": [],
   "source": [
    "A = np.array([\n",
    "    [ 1, -2],\n",
    "    [-1, -1],\n",
    "    [-1,  2],\n",
    "    [ 1,  0],\n",
    "    [ 0,  1]\n",
    "])\n",
    "b = np.array([-2,-6,-2,0,0])"
   ]
  },
  {
   "cell_type": "code",
   "execution_count": 3,
   "metadata": {},
   "outputs": [],
   "source": [
    "def fun(x):\n",
    "    return rosen(x), rosen_der(x)\n",
    "\n",
    "def restr(x):\n",
    "    return np.dot(A, x) - b, A\n",
    "\n",
    "x0 = np.array([2.,0.])"
   ]
  },
  {
   "cell_type": "markdown",
   "metadata": {},
   "source": [
    "## Example using SciPy"
   ]
  },
  {
   "cell_type": "code",
   "execution_count": 4,
   "metadata": {},
   "outputs": [
    {
     "data": {
      "text/plain": [
       "array([1.00000014, 1.00000029])"
      ]
     },
     "execution_count": 4,
     "metadata": {},
     "output_type": "execute_result"
    }
   ],
   "source": [
    "constr = LinearConstraint(A, b, [np.inf]*5)\n",
    "res = minimize(fun=fun, x0=x0, method='trust-constr', jac=True, constraints=constr)\n",
    "res.x # should be (1., 1.)"
   ]
  },
  {
   "cell_type": "code",
   "execution_count": 5,
   "metadata": {},
   "outputs": [
    {
     "data": {
      "text/plain": [
       "array([ True,  True,  True,  True,  True])"
      ]
     },
     "execution_count": 5,
     "metadata": {},
     "output_type": "execute_result"
    }
   ],
   "source": [
    "np.dot(A, res.x) >= b"
   ]
  },
  {
   "cell_type": "code",
   "execution_count": 6,
   "metadata": {},
   "outputs": [
    {
     "name": "stdout",
     "output_type": "stream",
     "text": [
      "WARNING: maximum number of iterations achieved for line search\n",
      "iter 1:\n",
      " - x: [2.02027009 0.00895708]\n",
      " - l: [ 1.50121285 -6.96578101 -5.17930732  1.49120926  2.6230299 ]\n",
      " - ||kkt||: 3376.7218805721777\n",
      " - alpha_k: 0.004747561509942996\n",
      "\n",
      "iter 2:\n",
      " - x: [1.66175999 1.83088   ]\n",
      " - l: [1.56732982e+02 1.52500231e-07 9.55932453e-08 2.30101207e-07\n",
      " 2.08846555e-07]\n",
      " - ||kkt||: 480.33208960155343\n",
      " - alpha_k: 1\n",
      "\n",
      "iter 3:\n",
      " - x: [1.46316648 1.73158324]\n",
      " - l: [2.31938167e+01 1.72257187e-08 1.20806130e-08 3.30259426e-08\n",
      " 2.79065141e-08]\n",
      " - ||kkt||: 220.14208683892826\n",
      " - alpha_k: 1\n",
      "\n",
      "iter 4:\n",
      " - x: [1.3420919  1.67104595]\n",
      " - l: [9.14610356e+00 7.09220785e-09 5.29586180e-09 1.57839021e-08\n",
      " 1.26767592e-08]\n",
      " - ||kkt||: 61.9011807187666\n",
      " - alpha_k: 1\n",
      "\n",
      "iter 5:\n",
      " - x: [1.29302274 1.64651137]\n",
      " - l: [1.70476177e+00 1.36663059e-09 1.04563158e-09 3.23468891e-09\n",
      " 2.54023530e-09]\n",
      " - ||kkt||: 12.13200399849888\n",
      " - alpha_k: 1\n",
      "\n",
      "iter 6:\n",
      " - x: [1.28118847 1.64059423]\n",
      " - l: [1.28915172e-02 7.65342905e-12 5.88972942e-12 1.83883310e-11\n",
      " 1.43599905e-11]\n",
      " - ||kkt||: 0.9954092913528495\n",
      " - alpha_k: 1\n",
      "\n",
      "iter 7:\n",
      " - x: [1.18647229 1.3973201 ]\n",
      " - l: [7.34849464e-10 8.42857450e-11 7.98016089e-11 2.42683801e-10\n",
      " 2.06064169e-10]\n",
      " - ||kkt||: 5.699752710427411\n",
      " - alpha_k: 1\n",
      "\n",
      "iter 8:\n",
      " - x: [1.16004446 1.33934134]\n",
      " - l: [1.16482911e-09 1.60173097e-10 1.59352619e-10 4.83347180e-10\n",
      " 4.18641762e-10]\n",
      " - ||kkt||: 3.510756873108505\n",
      " - alpha_k: 1\n",
      "\n",
      "iter 9:\n",
      " - x: [1.09873341 1.20047158]\n",
      " - l: [7.81894751e-10 1.47427383e-10 1.65222249e-10 4.96570432e-10\n",
      " 4.54486828e-10]\n",
      " - ||kkt||: 3.436883496989988\n",
      " - alpha_k: 1\n",
      "\n",
      "iter 10:\n",
      " - x: [1.08487068 1.17874352]\n",
      " - l: [1.78910976e-09 3.54545911e-10 4.09432251e-10 1.23801920e-09\n",
      " 1.14357046e-09]\n",
      " - ||kkt||: 0.7090684060900241\n",
      " - alpha_k: 0.48999999999999994\n",
      "\n",
      "iter 11:\n",
      " - x: [1.03421554 1.0665229 ]\n",
      " - l: [4.69653072e-09 1.08542895e-09 1.36579646e-09 4.09234944e-09\n",
      " 3.96838305e-09]\n",
      " - ||kkt||: 1.4766441892843742\n",
      " - alpha_k: 1\n",
      "\n",
      "iter 12:\n",
      " - x: [1.02677219 1.05276703]\n",
      " - l: [4.59417684e-09 1.07954934e-09 1.37468600e-09 4.12197654e-09\n",
      " 4.02019700e-09]\n",
      " - ||kkt||: 0.731042705543173\n",
      " - alpha_k: 1\n",
      "\n",
      "iter 13:\n",
      " - x: [1.00329922 1.0054822 ]\n",
      " - l: [8.46991756e-09 2.10587167e-09 2.79452454e-09 8.37735539e-09\n",
      " 8.35916752e-09]\n",
      " - ||kkt||: 0.5113121616328118\n",
      " - alpha_k: 1\n",
      "\n",
      "iter 14:\n",
      " - x: [1.00352676 1.00720943]\n",
      " - l: [8.51036144e-09 2.11006685e-09 2.79571895e-09 8.38802615e-09\n",
      " 8.35735929e-09]\n",
      " - ||kkt||: 0.05811356270251085\n",
      " - alpha_k: 0.7\n",
      "\n",
      "iter 15:\n",
      " - x: [1.00073079 1.00145413]\n",
      " - l: [8.43899787e-09 2.10630609e-09 2.80483828e-09 8.41447303e-09\n",
      " 8.40839539e-09]\n",
      " - ||kkt||: 0.004927014125214466\n",
      " - alpha_k: 1\n",
      "\n",
      "iter 16:\n",
      " - x: [1.00000614 1.0000072 ]\n",
      " - l: [4.24313723e-09 1.06077908e-09 1.41436350e-09 4.24307611e-09\n",
      " 4.24307162e-09]\n",
      " - ||kkt||: 0.0022851290348427284\n",
      " - alpha_k: 1\n",
      "\n",
      "iter 17:\n",
      " - x: [1.00000029 1.00000035]\n",
      " - l: [4.24322462e-09 1.06080590e-09 1.41440745e-09 4.24322170e-09\n",
      " 4.24322145e-09]\n",
      " - ||kkt||: 0.00010254572685037191\n",
      " - alpha_k: 1\n",
      "\n",
      "iter 18:\n",
      " - x: [1. 1.]\n",
      " - l: [4.24336704e-09 1.06084176e-09 1.41445568e-09 4.24336704e-09\n",
      " 4.24336703e-09]\n",
      " - ||kkt||: 1.3162023049494044e-09\n",
      " - alpha_k: 1\n",
      "\n",
      "Solution found\n",
      "iter 19:\n",
      " - x: [1. 1.]\n",
      " - l: [4.24336716e-09 1.06084179e-09 1.41445572e-09 4.24336716e-09\n",
      " 4.24336716e-09]\n"
     ]
    }
   ],
   "source": [
    "x, lam = ls_sqp(fun, restr, x_0=x0, lam_0=np.ones(5), B_0=np.eye(x0.size), eta=0.4, tau=0.7, maxiters=1000, tol=10e-10)"
   ]
  },
  {
   "cell_type": "code",
   "execution_count": 7,
   "metadata": {},
   "outputs": [
    {
     "data": {
      "text/plain": [
       "array([1., 1.])"
      ]
     },
     "execution_count": 7,
     "metadata": {},
     "output_type": "execute_result"
    }
   ],
   "source": [
    "x"
   ]
  },
  {
   "cell_type": "code",
   "execution_count": 8,
   "metadata": {},
   "outputs": [
    {
     "data": {
      "text/plain": [
       "array([ True,  True,  True,  True,  True])"
      ]
     },
     "execution_count": 8,
     "metadata": {},
     "output_type": "execute_result"
    }
   ],
   "source": [
    "np.dot(A, x) >= b"
   ]
  }
 ],
 "metadata": {
  "kernelspec": {
   "display_name": "thesisenv",
   "language": "python",
   "name": "python3"
  },
  "language_info": {
   "codemirror_mode": {
    "name": "ipython",
    "version": 3
   },
   "file_extension": ".py",
   "mimetype": "text/x-python",
   "name": "python",
   "nbconvert_exporter": "python",
   "pygments_lexer": "ipython3",
   "version": "3.12.4"
  }
 },
 "nbformat": 4,
 "nbformat_minor": 2
}
