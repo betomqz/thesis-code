{
 "cells": [
  {
   "cell_type": "markdown",
   "metadata": {},
   "source": [
    "# Line Search SQP Algorithm\n",
    "\n",
    "Implemented from Algorithm 18.3 from Nocedal (2008), p. 545."
   ]
  },
  {
   "cell_type": "markdown",
   "metadata": {},
   "source": [
    "## Problem formulation\n",
    "\n",
    "We attempt to solve the general nonlinear programming problem (`18.10`)\n",
    " \n",
    "$$ \\min f(x) $$\n",
    "\n",
    "subject to\n",
    "$$ \n",
    "\\begin{align*}\n",
    "    c_i(x) &= 0, \\quad i \\in \\mathcal{E}, \\\\\n",
    "    c_i(x) &\\geq 0, \\quad i \\in \\mathcal{I}. \\\\\n",
    "\\end{align*}\n",
    "$$\n",
    "\n",
    "To model this problem we now linearize both the inequality and equality\n",
    "constraints to obtain (`18.11`)\n",
    "\n",
    "$$ \n",
    "    \\min_p f_k + \\nabla f_k^T p\n",
    "    + \\frac{1}{2} p^T \\nabla_{xx}^2 \\mathcal{L}_k p\n",
    "$$\n",
    "\n",
    "subject to\n",
    "$$ \n",
    "\\begin{align*}\n",
    "    \\nabla c_i(x_k)^T p + c_i(x_k) &= 0, \\quad i \\in \\mathcal{E}, \\\\\n",
    "    \\nabla c_i(x_k)^T p + c_i(x_k) &\\geq 0, \\quad i \\in \\mathcal{I}. \\\\\n",
    "\\end{align*}\n",
    "$$\n",
    "\n",
    "We can use one of the algorithms for quadratic programming to solve this\n",
    "problem. The new iterate is given by $(x_k + p_k, \\lambda_{k+1})$ where $p_k$\n",
    "and $\\lambda_{k+1}$ are the solution and the corresponding Lagrange multiplier \n",
    "of (`18.11`)"
   ]
  },
  {
   "cell_type": "code",
   "execution_count": 2,
   "metadata": {},
   "outputs": [],
   "source": [
    "import utils\n",
    "import numpy as np"
   ]
  },
  {
   "cell_type": "code",
   "execution_count": null,
   "metadata": {},
   "outputs": [],
   "source": [
    "def ls_sqp(fun, x_0, lam_0, B_0, eta, tau):\n",
    "    # eta must lie strictly between 0 and 0.5\n",
    "    assert 0<eta<0.5, f\"{utils.TextColors.FAIL}ERROR{utils.TextColors.ENDC}:\n",
    "                        eta must be in (0,0.5)\"\n",
    "\n",
    "    # tau must lie strictly between 0 and 1\n",
    "    assert 0<tau<1, f\"{utils.TextColors.FAIL}ERROR{utils.TextColors.ENDC}:\n",
    "                      tau must be in (0,1)\"\n",
    "\n",
    "    # Evaluate f_0, ∇f_0, c_0, A_0;\n",
    "    x_k = x_0\n",
    "    lam_k = lam_0\n",
    "    f_k = fun(x_k)\n",
    "\n",
    "    # Choose initial nxn s.p.d. Hessian approximation B_0\n",
    "\n",
    "    # Repeat until convergence test is satisfied\n",
    "    while 1==1:\n",
    "        # Compute p_k by solving (18.11); \n",
    "        # let lambda_hat be the corresponding mult.\n",
    "        p_k, lam_hat = 1, 1\n",
    "\n",
    "        # Set p_lambda <- lambda_hat - lambda_k\n",
    "        p_lam = lam_hat - lam_k\n",
    "\n",
    "        # Choose mu_k to satisfy (18.36) with sigma=1\n",
    "\n",
    "        # Set alpha_k <- 1\n",
    "        alpha_k = 1\n",
    "\n",
    "        while 1==1:\n",
    "            # reset alpha_k <- tau_alpha * alpha_k\n",
    "            # for some tau_alpha in (0,tau]\n",
    "            alpha_k *= tau_alpha\n",
    "\n",
    "        # Set x_k+1 and lambda_k+1\n",
    "        x_k += alpha_k * p_k\n",
    "        lam_k += alpha_k * p_lam\n",
    "\n",
    "        # Evaluate f_k+1, ∇f_k+1, c_k+1, A_k+1\n",
    "        f_k = fun(x_k)\n",
    "        J_k = jacob(x_k)\n",
    "        c_k = 1\n",
    "        A_k = 1\n",
    "\n",
    "        # Obtain B_k+1 by updating B_k using a quasi-Newton formula\n",
    "        B_k = 1"
   ]
  }
 ],
 "metadata": {
  "kernelspec": {
   "display_name": "thesisenv",
   "language": "python",
   "name": "python3"
  },
  "language_info": {
   "codemirror_mode": {
    "name": "ipython",
    "version": 3
   },
   "file_extension": ".py",
   "mimetype": "text/x-python",
   "name": "python",
   "nbconvert_exporter": "python",
   "pygments_lexer": "ipython3",
   "version": "3.12.4"
  }
 },
 "nbformat": 4,
 "nbformat_minor": 2
}
